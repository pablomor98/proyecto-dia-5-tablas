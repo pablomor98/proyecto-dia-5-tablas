{
  "cells": [
    {
      "cell_type": "markdown",
      "metadata": {
        "id": "view-in-github",
        "colab_type": "text"
      },
      "source": [
        "<a href=\"https://colab.research.google.com/github/pablomor98/proyecto-dia-5-tablas/blob/main/Proyecto_del_D%C3%ADa_5_Generador_de_Tablas_de_Multiplicar_checkpoint.ipynb\" target=\"_parent\"><img src=\"https://colab.research.google.com/assets/colab-badge.svg\" alt=\"Open In Colab\"/></a>"
      ]
    },
    {
      "cell_type": "markdown",
      "id": "a948c51c",
      "metadata": {
        "id": "a948c51c"
      },
      "source": [
        "# Proyecto del Día 5: Generador de Tablas de Multiplicar"
      ]
    },
    {
      "cell_type": "markdown",
      "id": "e8159936",
      "metadata": {
        "id": "e8159936"
      },
      "source": [
        "\n",
        "Este proyecto de Python permite al usuario generar tablas de multiplicar para cualquier número y hasta un límite específico de multiplicación.\n",
        "\n",
        "## Consigna\n",
        "Vas a crear un código que le pida al usuario un **número para multiplicar**, y un **número límite** para establecer hasta cuánto lo vamos a multiplicar.\n",
        "\n",
        "Por ejemplo, si el usuario elige:\n",
        "- Número: 5\n",
        "- Límite: 3\n",
        "\n",
        "El programa le devolverá:\n",
        "```\n",
        "5 x 1 = 5\n",
        "5 x 2 = 10\n",
        "5 x 3 = 15\n",
        "````\n",
        "\n",
        "Cuando el programa termine de mostrar los resultados, debe preguntarle al usuario si desea calcular otra tabla, o finalizar el programa.\n",
        "\n",
        "**Recomendaciones**:\n",
        "- Crear una función que se encargue de calcular las tablas\n",
        "- Crear una función global que se encargue de:\n",
        "    - Solicitar al usuario un número para generar su tabla de multiplicar.\n",
        "    - Pedir el límite hasta donde se quiere llegar en la multiplicación.\n",
        "    - Llamar a la función que crea las tablas\n",
        "    \n",
        "- Emplear bucles `for` y la función `range` para la lógica de la tabla.\n",
        "- Implementar un bucle `while` para que el usuario pueda generar múltiples tablas o salir del programa.\n"
      ]
    },
    {
      "cell_type": "code",
      "execution_count": 2,
      "id": "39ac3e8e",
      "metadata": {
        "id": "39ac3e8e"
      },
      "outputs": [],
      "source": [
        "def multiplicacion(numero, limite):\n",
        "  for i in range(1, limite + 1):\n",
        "    print(f\"{numero} x {i} = {numero * i}\")"
      ]
    },
    {
      "cell_type": "code",
      "source": [
        "while True:\n",
        "  opcion = input(\"\"\"\n",
        "  Selecciona una opción:\n",
        "    1. Multiplicar número\n",
        "    2. Salir programa\n",
        "  \"\"\").strip() # Agregamos un strip por si el usuario agrega un espacio\n",
        "  if int(opcion) == 1:\n",
        "    print(\"Iniciando programa\")\n",
        "  elif int(opcion) == 2:\n",
        "    break\n",
        "  else:\n",
        "    print(\"Opción no válida\")\n",
        "    continue\n",
        "  numero_a_multiplicar = int(input(\"Ingresa el número que quieres multiplicar: \"))\n",
        "  limite = int(input(\"Ingresa el límite de multiplicación: \"))\n",
        "  multiplicacion(numero_a_multiplicar, limite)"
      ],
      "metadata": {
        "colab": {
          "base_uri": "https://localhost:8080/"
        },
        "id": "-HvlBemoC0s-",
        "outputId": "3594e465-b619-4916-a72d-7253ed733e1e"
      },
      "id": "-HvlBemoC0s-",
      "execution_count": 4,
      "outputs": [
        {
          "name": "stdout",
          "output_type": "stream",
          "text": [
            "\n",
            "  Selecciona una opción:\n",
            "    1. Multiplicar número \n",
            "    2. Salir programa\n",
            "  1\n",
            "Iniciando programa\n",
            "Ingresa el número que quieres multiplicar: 23\n",
            "Ingresa el límite de multiplicación: 23\n",
            "23 x 1 = 23\n",
            "23 x 2 = 46\n",
            "23 x 3 = 69\n",
            "23 x 4 = 92\n",
            "23 x 5 = 115\n",
            "23 x 6 = 138\n",
            "23 x 7 = 161\n",
            "23 x 8 = 184\n",
            "23 x 9 = 207\n",
            "23 x 10 = 230\n",
            "23 x 11 = 253\n",
            "23 x 12 = 276\n",
            "23 x 13 = 299\n",
            "23 x 14 = 322\n",
            "23 x 15 = 345\n",
            "23 x 16 = 368\n",
            "23 x 17 = 391\n",
            "23 x 18 = 414\n",
            "23 x 19 = 437\n",
            "23 x 20 = 460\n",
            "23 x 21 = 483\n",
            "23 x 22 = 506\n",
            "23 x 23 = 529\n",
            "\n",
            "  Selecciona una opción:\n",
            "    1. Multiplicar número \n",
            "    2. Salir programa\n",
            "  2\n"
          ]
        }
      ]
    }
  ],
  "metadata": {
    "kernelspec": {
      "display_name": "Python 3 (ipykernel)",
      "language": "python",
      "name": "python3"
    },
    "language_info": {
      "codemirror_mode": {
        "name": "ipython",
        "version": 3
      },
      "file_extension": ".py",
      "mimetype": "text/x-python",
      "name": "python",
      "nbconvert_exporter": "python",
      "pygments_lexer": "ipython3",
      "version": "3.11.5"
    },
    "colab": {
      "provenance": [],
      "include_colab_link": true
    }
  },
  "nbformat": 4,
  "nbformat_minor": 5
}